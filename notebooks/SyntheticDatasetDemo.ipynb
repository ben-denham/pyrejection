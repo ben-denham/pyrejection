{
 "cells": [
  {
   "cell_type": "code",
   "execution_count": null,
   "metadata": {},
   "outputs": [],
   "source": [
    "%load_ext autoreload\n",
    "%autoreload 2"
   ]
  },
  {
   "cell_type": "code",
   "execution_count": null,
   "metadata": {},
   "outputs": [],
   "source": [
    "import numpy as np\n",
    "import pandas as pd\n",
    "\n",
    "from pyrejection.experiments import run_experiment\n",
    "from pyrejection.evaluation import (\n",
    "    experiment_coverage_risk_plot,\n",
    "    prepare_visual_test_set,\n",
    "    classification_comparison,\n",
    ")"
   ]
  },
  {
   "cell_type": "code",
   "execution_count": null,
   "metadata": {},
   "outputs": [],
   "source": [
    "exp_result = run_experiment(metric_name='accuracy',\n",
    "                            classifier_name='unscaled-logreg',\n",
    "                            dataset_name='simple-synthetic-noise',\n",
    "                            random_state=0,\n",
    "                            cache_dir='results_cache')"
   ]
  },
  {
   "cell_type": "code",
   "execution_count": null,
   "metadata": {},
   "outputs": [],
   "source": [
    "test_X_2d, test_y = prepare_visual_test_set(exp_result)"
   ]
  },
  {
   "cell_type": "code",
   "execution_count": null,
   "metadata": {},
   "outputs": [],
   "source": [
    "test_n = len(test_y)\n",
    "# Given P(y=1|x1 >= 0.5) = 1 - (x2 / 2) and P(y=1|x1 < 0.5) = (x2 / 2)\n",
    "# The probability of error for a Bayes-optimal classifier will be: x2 / 2\n",
    "# We also sort the probabilities of error.\n",
    "prob_error = np.sort(test_X_2d.iloc[:,1] / 2)\n",
    "\n",
    "optimal_rows = []\n",
    "for i in range(1, test_n+1):\n",
    "    # Add an entry for covering i records, with error based\n",
    "    # on the i most lowest probabilities of error.\n",
    "    coverage = (i / test_n)\n",
    "    optimal_rows.append({\n",
    "        'rejection': 1 - coverage,\n",
    "        'cond_error': prob_error[:i].mean(),\n",
    "    })\n",
    "optimal_df = pd.DataFrame(optimal_rows)"
   ]
  },
  {
   "cell_type": "code",
   "execution_count": null,
   "metadata": {},
   "outputs": [],
   "source": [
    "experiment_coverage_risk_plot(exp_result, render_svg=True, optimal_df=optimal_df)"
   ]
  },
  {
   "cell_type": "code",
   "execution_count": null,
   "metadata": {},
   "outputs": [],
   "source": [
    "classification_comparison(exp_result, test_X_2d, test_y, sample_size=1000, highlight_incorrect_predictions=False, jitter=0)"
   ]
  },
  {
   "cell_type": "code",
   "execution_count": null,
   "metadata": {},
   "outputs": [],
   "source": []
  }
 ],
 "metadata": {
  "kernelspec": {
   "display_name": "Python 3",
   "language": "python",
   "name": "python3"
  },
  "language_info": {
   "codemirror_mode": {
    "name": "ipython",
    "version": 3
   },
   "file_extension": ".py",
   "mimetype": "text/x-python",
   "name": "python",
   "nbconvert_exporter": "python",
   "pygments_lexer": "ipython3",
   "version": "3.7.6"
  }
 },
 "nbformat": 4,
 "nbformat_minor": 2
}
